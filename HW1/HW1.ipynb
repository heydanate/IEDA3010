{
 "cells": [
  {
   "cell_type": "code",
   "execution_count": 5,
   "id": "dd4005d7",
   "metadata": {},
   "outputs": [
    {
     "name": "stdout",
     "output_type": "stream",
     "text": [
      "Requirement already satisfied: pulp in /opt/anaconda3/lib/python3.9/site-packages (2.7.0)\n",
      "Note: you may need to restart the kernel to use updated packages.\n"
     ]
    }
   ],
   "source": [
    "pip install pulp"
   ]
  },
  {
   "cell_type": "code",
   "execution_count": 3,
   "id": "fe08e857",
   "metadata": {},
   "outputs": [
    {
     "name": "stdout",
     "output_type": "stream",
     "text": [
      "Welcome to the CBC MILP Solver \n",
      "Version: 2.10.3 \n",
      "Build Date: Dec 15 2019 \n",
      "\n",
      "command line - /opt/anaconda3/lib/python3.9/site-packages/pulp/solverdir/cbc/osx/64/cbc /var/folders/m2/_ppbqpt53lz4ln_8_82j31z80000gp/T/910c2ebe44134dd589c541cd74f665bd-pulp.mps timeMode elapsed branch printingOptions all solution /var/folders/m2/_ppbqpt53lz4ln_8_82j31z80000gp/T/910c2ebe44134dd589c541cd74f665bd-pulp.sol (default strategy 1)\n",
      "At line 2 NAME          MODEL\n",
      "At line 3 ROWS\n",
      "At line 31 COLUMNS\n",
      "At line 128 RHS\n",
      "At line 155 BOUNDS\n",
      "At line 156 ENDATA\n",
      "Problem MODEL has 26 rows, 24 columns and 72 elements\n",
      "Coin0008I MODEL read with 0 errors\n",
      "Option for timeMode changed from cpu to elapsed\n",
      "Presolve 26 (0) rows, 24 (0) columns and 72 (0) elements\n",
      "Perturbing problem by 0.001% of 6 - largest nonzero change 6.0435417e-05 ( 0.0022041569%) - largest zero change 0\n",
      "0  Obj 0 Primal inf 4000 (8)\n",
      "21  Obj 13200.139\n",
      "Optimal - objective value 13200\n",
      "Optimal objective 13200 - 21 iterations time 0.002\n",
      "Option for printingOptions changed from normal to all\n",
      "Total time (CPU seconds):       0.00   (Wallclock seconds):       0.00\n",
      "\n",
      "Status: Optimal\n",
      "x_Warehouse_1_Neighborhood_1_B = 100.0\n",
      "x_Warehouse_1_Neighborhood_1_D = 700.0\n",
      "x_Warehouse_1_Neighborhood_2_A = 100.0\n",
      "x_Warehouse_1_Neighborhood_2_C = 500.0\n",
      "x_Warehouse_1_Neighborhood_2_D = 300.0\n",
      "x_Warehouse_2_Neighborhood_1_A = 200.0\n",
      "x_Warehouse_2_Neighborhood_1_C = 200.0\n",
      "x_Warehouse_2_Neighborhood_1_D = 100.0\n",
      "x_Warehouse_2_Neighborhood_2_A = 100.0\n",
      "x_Warehouse_2_Neighborhood_2_B = 200.0\n",
      "x_Warehouse_2_Neighborhood_2_D = 400.0\n",
      "x_Warehouse_3_Neighborhood_1_A = 200.0\n",
      "x_Warehouse_3_Neighborhood_1_C = 400.0\n",
      "x_Warehouse_3_Neighborhood_2_B = 300.0\n",
      "x_Warehouse_3_Neighborhood_2_D = 200.0\n",
      "Total Distance can be minimized to =  13200.0\n"
     ]
    }
   ],
   "source": [
    "from pulp import *\n",
    "\n",
    "warehouses = ['Warehouse 1', 'Warehouse 2', 'Warehouse 3']\n",
    "neighborhoods = ['Neighborhood 1', 'Neighborhood 2']\n",
    "products = ['A', 'B', 'C', 'D']\n",
    "\n",
    "supply = {'Warehouse 1': {'A': 100, 'B': 200, 'C': 500, 'D': 1000},\n",
    "          'Warehouse 2': {'A': 300, 'B': 200, 'C': 200, 'D': 500},\n",
    "          'Warehouse 3': {'A': 200, 'B': 300, 'C': 500, 'D': 200}}\n",
    "\n",
    "demand = {'Neighborhood 1': {'A': 400, 'B': 100, 'C': 600, 'D': 800},\n",
    "          'Neighborhood 2': {'A': 200, 'B': 500, 'C': 500, 'D': 900}}\n",
    "\n",
    "capacity = {'Warehouse 1': {'Neighborhood 1': 800, 'Neighborhood 2': 1000},\n",
    "            'Warehouse 2': {'Neighborhood 1': 700, 'Neighborhood 2': 700},\n",
    "            'Warehouse 3': {'Neighborhood 1': 800, 'Neighborhood 2': 500}}\n",
    "\n",
    "distance = {'Warehouse 1': {'Neighborhood 1': 1.0, 'Neighborhood 2': 6.0},\n",
    "            'Warehouse 2': {'Neighborhood 1': 2.0, 'Neighborhood 2': 3.0},\n",
    "            'Warehouse 3': {'Neighborhood 1': 4.0, 'Neighborhood 2': 3.0}}\n",
    "\n",
    "\n",
    "prob = LpProblem(\"Transportation\", LpMinimize)\n",
    "\n",
    "\n",
    "x = LpVariable.dicts(\"x\", (warehouses, neighborhoods, products), 0, None)\n",
    "\n",
    "# Objective Function\n",
    "prob += lpSum([distance[i][j] * x[i][j][k] for i in warehouses for j in neighborhoods for k in products])\n",
    "\n",
    "# Constraints\n",
    "for j in neighborhoods:\n",
    "    for k in products:\n",
    "        prob += lpSum([x[i][j][k] for i in warehouses]) == demand[j][k]\n",
    "\n",
    "for i in warehouses:\n",
    "    for k in products:\n",
    "        prob += lpSum([x[i][j][k] for j in neighborhoods]) <= supply[i][k]\n",
    "\n",
    "for i in warehouses:\n",
    "    for j in neighborhoods:\n",
    "        prob += lpSum([x[i][j][k] for k in products]) <= capacity[i][j]\n",
    "\n",
    "prob.solve()\n",
    "\n",
    "print(\"Status:\", LpStatus[prob.status])\n",
    "\n",
    "\n",
    "for v in prob.variables():\n",
    "    if v.varValue > 0:\n",
    "        print(v.name, \"=\", v.varValue)\n",
    "\n",
    "\n",
    "print(\"Total Distance can be minimized to = \", value(prob.objective))"
   ]
  },
  {
   "cell_type": "code",
   "execution_count": null,
   "id": "48d9a228",
   "metadata": {},
   "outputs": [],
   "source": []
  }
 ],
 "metadata": {
  "kernelspec": {
   "display_name": "Python 3 (ipykernel)",
   "language": "python",
   "name": "python3"
  },
  "language_info": {
   "codemirror_mode": {
    "name": "ipython",
    "version": 3
   },
   "file_extension": ".py",
   "mimetype": "text/x-python",
   "name": "python",
   "nbconvert_exporter": "python",
   "pygments_lexer": "ipython3",
   "version": "3.9.13"
  }
 },
 "nbformat": 4,
 "nbformat_minor": 5
}
